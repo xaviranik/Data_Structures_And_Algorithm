{
 "cells": [
  {
   "cell_type": "markdown",
   "metadata": {},
   "source": [
    "# Binary tree\n",
    "\n",
    "A binary tree is a data structure where every node has at most two children (left and right child). The root of a tree is on top. Every node below has a node above known as the parent node.We define a class thee which has a left and right attribute. From this binary tree we define the root (top of the three) and a left and right node."
   ]
  },
  {
   "cell_type": "code",
   "execution_count": 1,
   "metadata": {},
   "outputs": [
    {
     "name": "stdout",
     "output_type": "stream",
     "text": [
      "left\n"
     ]
    }
   ],
   "source": [
    "class Tree(object):\n",
    "    def __init__(self):\n",
    "        self.left = None\n",
    "        self.right = None\n",
    "        self.data = None\n",
    "\n",
    "root = Tree()\n",
    "root.data = \"root\"\n",
    "root.left = Tree()\n",
    "root.left.data = \"left\"\n",
    "root.right = Tree()\n",
    "root.right.data = \"right\"\n",
    "\n",
    "print(root.left.data)"
   ]
  },
  {
   "cell_type": "code",
   "execution_count": 2,
   "metadata": {},
   "outputs": [],
   "source": [
    "class Tree(object):\n",
    "    def __init__(self):\n",
    "        self.left = None\n",
    "        self.right = None\n",
    "        self.data = None\n",
    "\n",
    "root = Tree()\n",
    "root.data = \"root\"\n",
    "root.left = Tree()\n",
    "root.left.data = \"left\"\n",
    "root.right = Tree()\n",
    "root.right.data = \"right\"\n",
    "\n",
    "root.left.left = Tree()\n",
    "root.left.left.data = \"left 2\"\n",
    "root.left.right = Tree()\n",
    "root.left.right.data = \"left-right\""
   ]
  },
  {
   "cell_type": "markdown",
   "metadata": {},
   "source": [
    "# Binary Search Tree\n",
    "A BST is a great choice for storing data that may need to be sorted. Anything that is stored in a BST must be comparable, which means that the data can be compared with less than <, greater than >, and equal to == operators.\n",
    "For flat arrays, searching for, inserting, and deleting data will loop through every single element, yielding an average efficiency of O(n). With a Binary Search Tree, each step down the tree cuts the remaining nodes to search by up to half. For this reason, search on a BST is performed in O(log(n)) time on average. This is a significant improvement, especially for large data sets."
   ]
  },
  {
   "cell_type": "markdown",
   "metadata": {},
   "source": [
    "## Searching"
   ]
  },
  {
   "cell_type": "code",
   "execution_count": 3,
   "metadata": {},
   "outputs": [],
   "source": [
    "def search(root,key): \n",
    "      \n",
    "    # Base Cases: root is null or key is present at root \n",
    "    if root is None or root.val == key: \n",
    "        return root \n",
    "  \n",
    "    # Key is greater than root's key \n",
    "    if root.val < key: \n",
    "        return search(root.right,key) \n",
    "    \n",
    "    # Key is smaller than root's key \n",
    "    return search(root.left,key)"
   ]
  },
  {
   "cell_type": "markdown",
   "metadata": {},
   "source": [
    "# Insertion of a key"
   ]
  },
  {
   "cell_type": "code",
   "execution_count": 6,
   "metadata": {},
   "outputs": [
    {
     "name": "stdout",
     "output_type": "stream",
     "text": [
      "20\n",
      "30\n",
      "40\n",
      "50\n",
      "60\n",
      "70\n",
      "80\n"
     ]
    }
   ],
   "source": [
    "class Node: \n",
    "    def __init__(self,key): \n",
    "        self.left = None\n",
    "        self.right = None\n",
    "        self.val = key \n",
    "  \n",
    "# A utility function to insert a new node with the given key \n",
    "def insert(root,node): \n",
    "    if root is None: \n",
    "        root = node \n",
    "    else: \n",
    "        if root.val < node.val: \n",
    "            if root.right is None: \n",
    "                root.right = node \n",
    "            else: \n",
    "                insert(root.right, node) \n",
    "        else: \n",
    "            if root.left is None: \n",
    "                root.left = node \n",
    "            else: \n",
    "                insert(root.left, node) \n",
    "  \n",
    "# A utility function to do inorder tree traversal \n",
    "def inorder(root): \n",
    "    if root: \n",
    "        inorder(root.left) \n",
    "        print(root.val) \n",
    "        inorder(root.right) \n",
    "  \n",
    "  \n",
    "# Let us create the following BST \n",
    "#      50 \n",
    "#    /      \\ \n",
    "#   30     70 \n",
    "#   / \\    / \\ \n",
    "#  20 40  60 80 \n",
    "r = Node(50) \n",
    "insert(r,Node(30)) \n",
    "insert(r,Node(20)) \n",
    "insert(r,Node(40)) \n",
    "insert(r,Node(70)) \n",
    "insert(r,Node(60)) \n",
    "insert(r,Node(80)) \n",
    "  \n",
    "# Print inoder traversal of the BST \n",
    "inorder(r)"
   ]
  },
  {
   "cell_type": "markdown",
   "metadata": {},
   "source": [
    "# Binary Tree Implementation (Lists)\n",
    "Below is a representation of a Tree using a list of lists."
   ]
  },
  {
   "cell_type": "code",
   "execution_count": 1,
   "metadata": {},
   "outputs": [],
   "source": [
    "def BinaryTree(r):\n",
    "    return [r, [], []]\n",
    "\n",
    "def insertLeft(root,newBranch):\n",
    "    t = root.pop(1)\n",
    "    if len(t) > 1:\n",
    "        root.insert(1,[newBranch,t,[]])\n",
    "    else:\n",
    "        root.insert(1,[newBranch, [], []])\n",
    "    return root\n",
    "\n",
    "def insertRight(root,newBranch):\n",
    "    t = root.pop(2)\n",
    "    if len(t) > 1:\n",
    "        root.insert(2,[newBranch,[],t])\n",
    "    else:\n",
    "        root.insert(2,[newBranch,[],[]])\n",
    "    return root\n",
    "\n",
    "def getRootVal(root):\n",
    "    return root[0]\n",
    "\n",
    "def setRootVal(root,newVal):\n",
    "    root[0] = newVal\n",
    "\n",
    "def getLeftChild(root):\n",
    "    return root[1]\n",
    "\n",
    "def getRightChild(root):\n",
    "    return root[2]"
   ]
  },
  {
   "cell_type": "code",
   "execution_count": null,
   "metadata": {},
   "outputs": [],
   "source": []
  }
 ],
 "metadata": {
  "kernelspec": {
   "display_name": "Python 3",
   "language": "python",
   "name": "python3"
  },
  "language_info": {
   "codemirror_mode": {
    "name": "ipython",
    "version": 3
   },
   "file_extension": ".py",
   "mimetype": "text/x-python",
   "name": "python",
   "nbconvert_exporter": "python",
   "pygments_lexer": "ipython3",
   "version": "3.7.3"
  }
 },
 "nbformat": 4,
 "nbformat_minor": 4
}
