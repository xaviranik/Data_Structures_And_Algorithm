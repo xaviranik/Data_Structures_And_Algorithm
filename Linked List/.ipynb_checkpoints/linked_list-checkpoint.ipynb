{
 "cells": [
  {
   "cell_type": "markdown",
   "metadata": {},
   "source": [
    "## Linked List \n",
    "A linked list is an ordered collection of values. Linked lists are similar to arrays in the sense that they contain objects in a linear order. However they differ from arrays in their memory layout."
   ]
  },
  {
   "cell_type": "code",
   "execution_count": 1,
   "metadata": {},
   "outputs": [],
   "source": [
    "class ListNode:\n",
    "    \"\"\"\n",
    "    A node in a singly-linked list.\n",
    "    \"\"\"\n",
    "    def __init__(self, data=None, next=None):\n",
    "        self.data = data\n",
    "        self.next = next\n",
    "\n",
    "    def __repr__(self):\n",
    "        return repr(self.data)\n",
    "\n",
    "\n",
    "class SinglyLinkedList:\n",
    "    def __init__(self):\n",
    "        \"\"\"\n",
    "        Create a new singly-linked list.\n",
    "        Takes O(1) time.\n",
    "        \"\"\"\n",
    "        self.head = None\n",
    "\n",
    "    def __repr__(self):\n",
    "        \"\"\"\n",
    "        Return a string representation of the list.\n",
    "        Takes O(n) time.\n",
    "        \"\"\"\n",
    "        nodes = []\n",
    "        curr = self.head\n",
    "        while curr:\n",
    "            nodes.append(repr(curr))\n",
    "            curr = curr.next\n",
    "        return '[' + ', '.join(nodes) + ']'\n",
    "\n",
    "    def prepend(self, data):\n",
    "        \"\"\"\n",
    "        Insert a new element at the beginning of the list.\n",
    "        Takes O(1) time.\n",
    "        \"\"\"\n",
    "        self.head = ListNode(data=data, next=self.head)\n",
    "\n",
    "    def append(self, data):\n",
    "        \"\"\"\n",
    "        Insert a new element at the end of the list.\n",
    "        Takes O(n) time.\n",
    "        \"\"\"\n",
    "        if not self.head:\n",
    "            self.head = ListNode(data=data)\n",
    "            return\n",
    "        curr = self.head\n",
    "        while curr.next:\n",
    "            curr = curr.next\n",
    "        curr.next = ListNode(data=data)\n",
    "\n",
    "    def find(self, key):\n",
    "        \"\"\"\n",
    "        Search for the first element with `data` matching\n",
    "        `key`. Return the element or `None` if not found.\n",
    "        Takes O(n) time.\n",
    "        \"\"\"\n",
    "        curr = self.head\n",
    "        while curr and curr.data != key:\n",
    "            curr = curr.next\n",
    "        return curr  # Will be None if not found\n",
    "\n",
    "    def remove(self, key):\n",
    "        \"\"\"\n",
    "        Remove the first occurrence of `key` in the list.\n",
    "        Takes O(n) time.\n",
    "        \"\"\"\n",
    "        # Find the element and keep a\n",
    "        # reference to the element preceding it\n",
    "        curr = self.head\n",
    "        prev = None\n",
    "        while curr and curr.data != key:\n",
    "            prev = curr\n",
    "            curr = curr.next\n",
    "        # Unlink it from the list\n",
    "        if prev is None:\n",
    "            self.head = curr.next\n",
    "        elif curr:\n",
    "            prev.next = curr.next\n",
    "            curr.next = None\n",
    "\n",
    "    def reverse(self):\n",
    "        \"\"\"\n",
    "        Reverse the list in-place.\n",
    "        Takes O(n) time.\n",
    "        \"\"\"\n",
    "        curr = self.head\n",
    "        prev_node = None\n",
    "        next_node = None\n",
    "        while curr:\n",
    "            next_node = curr.next\n",
    "            curr.next = prev_node\n",
    "            prev_node = curr\n",
    "            curr = next_node\n",
    "        self.head = prev_node"
   ]
  },
  {
   "cell_type": "code",
   "execution_count": 2,
   "metadata": {},
   "outputs": [],
   "source": [
    "lst = SinglyLinkedList()"
   ]
  },
  {
   "cell_type": "code",
   "execution_count": 3,
   "metadata": {},
   "outputs": [
    {
     "data": {
      "text/plain": [
       "[]"
      ]
     },
     "execution_count": 3,
     "metadata": {},
     "output_type": "execute_result"
    }
   ],
   "source": [
    "lst"
   ]
  },
  {
   "cell_type": "code",
   "execution_count": 4,
   "metadata": {},
   "outputs": [],
   "source": [
    "lst.prepend(23)\n",
    "lst.prepend('a')\n",
    "lst.prepend(42)\n",
    "lst.prepend('X')\n",
    "lst.append('the')\n",
    "lst.append('end')"
   ]
  },
  {
   "cell_type": "code",
   "execution_count": 5,
   "metadata": {},
   "outputs": [
    {
     "data": {
      "text/plain": [
       "['X', 42, 'a', 23, 'the', 'end']"
      ]
     },
     "execution_count": 5,
     "metadata": {},
     "output_type": "execute_result"
    }
   ],
   "source": [
    "lst"
   ]
  },
  {
   "cell_type": "code",
   "execution_count": 6,
   "metadata": {},
   "outputs": [],
   "source": [
    "lst.reverse()"
   ]
  },
  {
   "cell_type": "code",
   "execution_count": 7,
   "metadata": {},
   "outputs": [
    {
     "data": {
      "text/plain": [
       "['end', 'the', 23, 'a', 42, 'X']"
      ]
     },
     "execution_count": 7,
     "metadata": {},
     "output_type": "execute_result"
    }
   ],
   "source": [
    "lst"
   ]
  },
  {
   "cell_type": "code",
   "execution_count": 11,
   "metadata": {},
   "outputs": [
    {
     "data": {
      "text/plain": [
       "'X'"
      ]
     },
     "execution_count": 11,
     "metadata": {},
     "output_type": "execute_result"
    }
   ],
   "source": [
    "lst.find('X')"
   ]
  },
  {
   "cell_type": "code",
   "execution_count": 12,
   "metadata": {},
   "outputs": [],
   "source": [
    "lst.remove(42)"
   ]
  },
  {
   "cell_type": "code",
   "execution_count": 13,
   "metadata": {},
   "outputs": [
    {
     "data": {
      "text/plain": [
       "['end', 'the', 23, 'a', 'X']"
      ]
     },
     "execution_count": 13,
     "metadata": {},
     "output_type": "execute_result"
    }
   ],
   "source": [
    "lst"
   ]
  },
  {
   "cell_type": "code",
   "execution_count": null,
   "metadata": {},
   "outputs": [],
   "source": []
  }
 ],
 "metadata": {
  "kernelspec": {
   "display_name": "Python 3",
   "language": "python",
   "name": "python3"
  },
  "language_info": {
   "codemirror_mode": {
    "name": "ipython",
    "version": 3
   },
   "file_extension": ".py",
   "mimetype": "text/x-python",
   "name": "python",
   "nbconvert_exporter": "python",
   "pygments_lexer": "ipython3",
   "version": "3.7.3"
  }
 },
 "nbformat": 4,
 "nbformat_minor": 4
}
